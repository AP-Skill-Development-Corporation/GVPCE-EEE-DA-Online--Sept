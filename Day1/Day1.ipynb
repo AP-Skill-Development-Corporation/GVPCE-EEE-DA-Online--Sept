{
 "cells": [
  {
   "cell_type": "markdown",
   "metadata": {},
   "source": [
    "#### Literate Programming\n",
    "- programming along with documentation"
   ]
  },
  {
   "cell_type": "markdown",
   "metadata": {},
   "source": [
    "### Today Agenda\n",
    "- Software installation,Introduction to the Course\n",
    "- jupyter notebook environment\n",
    "- Markdown Basics\n",
    "- Markdown is the language helps us to do documentation\n",
    "- We can run html code in markdown"
   ]
  },
  {
   "cell_type": "code",
   "execution_count": 4,
   "metadata": {},
   "outputs": [
    {
     "name": "stdout",
     "output_type": "stream",
     "text": [
      "welcome\n"
     ]
    }
   ],
   "source": [
    "print(\"welcome\")"
   ]
  },
  {
   "cell_type": "markdown",
   "metadata": {},
   "source": [
    "#### Technical Documentation\n",
    "- Topics\n",
    "- Headings\n",
    "- sub divisions(sub topics)\n",
    "- paragraphs using (- hiphan)\n",
    "- table\n",
    "- images\n",
    "- reference links(url)"
   ]
  },
  {
   "cell_type": "markdown",
   "metadata": {},
   "source": [
    "Headings\n",
    "6 headings font sizes"
   ]
  },
  {
   "cell_type": "markdown",
   "metadata": {},
   "source": [
    "# represents heading1\n",
    "## heading2\n",
    "### heading3\n",
    "#### heading4\n",
    "##### heading5\n",
    "###### heading6\n",
    "####### plain text"
   ]
  },
  {
   "cell_type": "markdown",
   "metadata": {},
   "source": [
    "#### Font styles\n",
    "- styling the font in 3 ways\n",
    "    1. italic\n",
    "        - text should be enclosed in single *\n",
    "    2. bold text and\n",
    "        - text should be enclosed in double **\n",
    "    3. italic bold\n",
    "        - text should be in triple ***"
   ]
  },
  {
   "cell_type": "markdown",
   "metadata": {},
   "source": [
    "I am *italic* text\n"
   ]
  },
  {
   "cell_type": "markdown",
   "metadata": {},
   "source": [
    "I am *Trainer cum Developer* in APSSDC"
   ]
  },
  {
   "cell_type": "markdown",
   "metadata": {},
   "source": [
    "Be **Cautious** to Covid-19"
   ]
  },
  {
   "cell_type": "markdown",
   "metadata": {},
   "source": [
    "Hope ***you all doing well***"
   ]
  },
  {
   "cell_type": "markdown",
   "metadata": {},
   "source": [
    "html means Hyper Text Markup Language<br>\n",
    "is the web designing lang"
   ]
  },
  {
   "cell_type": "markdown",
   "metadata": {},
   "source": [
    "#### working with html in markdown"
   ]
  },
  {
   "cell_type": "markdown",
   "metadata": {},
   "source": [
    "<p>html code</p>"
   ]
  },
  {
   "cell_type": "markdown",
   "metadata": {},
   "source": [
    "#### coloured text"
   ]
  },
  {
   "cell_type": "markdown",
   "metadata": {},
   "source": [
    "<p style=\"color:green\" >I like Green Color</p>"
   ]
  },
  {
   "cell_type": "markdown",
   "metadata": {},
   "source": [
    "<p style=\"color:red;font-style:italic;background-color:palegreen;\">Welcome to DA Workshop</p>"
   ]
  },
  {
   "cell_type": "markdown",
   "metadata": {},
   "source": [
    "#### urls\n",
    "- [text to display](link)"
   ]
  },
  {
   "cell_type": "markdown",
   "metadata": {},
   "source": [
    "##### Social Media\n",
    "- [Google](https://www.google.com/)\n",
    "- [facebook](www.facebook.com/)\n",
    "- [youtube](https://www.youtube.com/)\n",
    "- [insta](https://www.insta.com/)\n",
    "- [my college](https://www.gvpce.ac.in/)"
   ]
  },
  {
   "cell_type": "markdown",
   "metadata": {},
   "source": [
    "#### displaying images\n",
    "- placing the image in our document\n",
    "- <img src=\"location\">"
   ]
  },
  {
   "cell_type": "markdown",
   "metadata": {},
   "source": [
    "<img src=\"clg.jpg\" height=100px width=100px>"
   ]
  },
  {
   "cell_type": "markdown",
   "metadata": {},
   "source": [
    "<img src=\"clg.jpg\" height=30% width=40%>"
   ]
  },
  {
   "cell_type": "markdown",
   "metadata": {},
   "source": [
    "#### Title\n",
    "- Heading\n",
    "    - Sub Heading\n",
    "        - description\n",
    "            - too many points\n",
    "                - ladder format"
   ]
  },
  {
   "cell_type": "markdown",
   "metadata": {},
   "source": [
    "##### Data Analysis using Python\n",
    "1. Introduction\n",
    "    a. Introduction to Data Science\n",
    "    b. What is Data Analysis\n",
    "2. Modules to support\n",
    "    1. Numpy\n",
    "    2. Pandas\n",
    "    3. Matplotlib\n",
    "3. Numpy\n",
    "    - sub modules\n",
    "        - sub sub module/function\n",
    "4. Pandas\n",
    "    3. data structures\n",
    "        - What are those\n",
    "5. Matplotlibe"
   ]
  },
  {
   "cell_type": "code",
   "execution_count": null,
   "metadata": {},
   "outputs": [],
   "source": []
  }
 ],
 "metadata": {
  "kernelspec": {
   "display_name": "Python 3",
   "language": "python",
   "name": "python3"
  },
  "language_info": {
   "codemirror_mode": {
    "name": "ipython",
    "version": 3
   },
   "file_extension": ".py",
   "mimetype": "text/x-python",
   "name": "python",
   "nbconvert_exporter": "python",
   "pygments_lexer": "ipython3",
   "version": "3.7.6"
  }
 },
 "nbformat": 4,
 "nbformat_minor": 4
}
