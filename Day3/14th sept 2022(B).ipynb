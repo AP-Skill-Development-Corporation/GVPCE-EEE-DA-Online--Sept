{
 "cells": [
  {
   "cell_type": "markdown",
   "metadata": {},
   "source": [
    "#### Dictionary\n",
    "- ex:physical dict contains two words\n",
    "    1. word:meaning\n",
    "- paired data structure contains keys and valueswork\n",
    "    - key worked as an index\n",
    "    - key can be any datatype\n",
    "    - no 2 keys in the dict are similar\n",
    "    - value may be data structure\n",
    "    - values might be sight\n",
    "- key and value together called as an item\n",
    "- dict is mutable in nature\n",
    "- dict() is the predefined\n",
    "- repesented by {key:val}"
   ]
  },
  {
   "cell_type": "code",
   "execution_count": 1,
   "metadata": {},
   "outputs": [],
   "source": [
    "name='ruthu'\n",
    "# vary"
   ]
  },
  {
   "cell_type": "code",
   "execution_count": 2,
   "metadata": {
    "collapsed": true
   },
   "outputs": [
    {
     "name": "stdout",
     "output_type": "stream",
     "text": [
      "<class 'tuple'> <class 'list'> <class 'dict'> <class 'dict'>\n"
     ]
    }
   ],
   "source": [
    "tp=()\n",
    "li=[]\n",
    "s={}\n",
    "dic={}\n",
    "print(type(tp),type(li),type(s),type(dic))"
   ]
  },
  {
   "cell_type": "code",
   "execution_count": 3,
   "metadata": {
    "collapsed": true
   },
   "outputs": [
    {
     "data": {
      "text/plain": [
       "['__class__',\n",
       " '__contains__',\n",
       " '__delattr__',\n",
       " '__delitem__',\n",
       " '__dir__',\n",
       " '__doc__',\n",
       " '__eq__',\n",
       " '__format__',\n",
       " '__ge__',\n",
       " '__getattribute__',\n",
       " '__getitem__',\n",
       " '__gt__',\n",
       " '__hash__',\n",
       " '__init__',\n",
       " '__init_subclass__',\n",
       " '__iter__',\n",
       " '__le__',\n",
       " '__len__',\n",
       " '__lt__',\n",
       " '__ne__',\n",
       " '__new__',\n",
       " '__reduce__',\n",
       " '__reduce_ex__',\n",
       " '__repr__',\n",
       " '__setattr__',\n",
       " '__setitem__',\n",
       " '__sizeof__',\n",
       " '__str__',\n",
       " '__subclasshook__',\n",
       " 'clear',\n",
       " 'copy',\n",
       " 'fromkeys',\n",
       " 'get',\n",
       " 'items',\n",
       " 'keys',\n",
       " 'pop',\n",
       " 'popitem',\n",
       " 'setdefault',\n",
       " 'update',\n",
       " 'values']"
      ]
     },
     "execution_count": 3,
     "metadata": {},
     "output_type": "execute_result"
    }
   ],
   "source": [
    "dir(dict)"
   ]
  },
  {
   "cell_type": "code",
   "execution_count": 4,
   "metadata": {},
   "outputs": [
    {
     "name": "stdout",
     "output_type": "stream",
     "text": [
      "{1: 'hi', 'name': 'Vanitha', 'marks': [90, 89, 87], 90.45: 40}\n"
     ]
    }
   ],
   "source": [
    "dic={1:'hi','name':'Vanitha','marks':[90,89,87],90.45:40}\n",
    "print(dic)"
   ]
  },
  {
   "cell_type": "code",
   "execution_count": 5,
   "metadata": {
    "collapsed": true
   },
   "outputs": [
    {
     "name": "stdout",
     "output_type": "stream",
     "text": [
      "1\n",
      "name\n",
      "marks\n",
      "90.45\n"
     ]
    }
   ],
   "source": [
    "# keys\n",
    "for each in dic:\n",
    "    print(each)"
   ]
  },
  {
   "cell_type": "code",
   "execution_count": 6,
   "metadata": {},
   "outputs": [
    {
     "data": {
      "text/plain": [
       "dict_keys([1, 'name', 'marks', 90.45])"
      ]
     },
     "execution_count": 6,
     "metadata": {},
     "output_type": "execute_result"
    }
   ],
   "source": [
    "dic.keys()"
   ]
  },
  {
   "cell_type": "code",
   "execution_count": 7,
   "metadata": {},
   "outputs": [
    {
     "data": {
      "text/plain": [
       "dict_values(['hi', 'Vanitha', [90, 89, 87], 40])"
      ]
     },
     "execution_count": 7,
     "metadata": {},
     "output_type": "execute_result"
    }
   ],
   "source": [
    "dic.values()"
   ]
  },
  {
   "cell_type": "code",
   "execution_count": 8,
   "metadata": {
    "collapsed": true
   },
   "outputs": [
    {
     "data": {
      "text/plain": [
       "dict_items([(1, 'hi'), ('name', 'Vanitha'), ('marks', [90, 89, 87]), (90.45, 40)])"
      ]
     },
     "execution_count": 8,
     "metadata": {},
     "output_type": "execute_result"
    }
   ],
   "source": [
    "dic.items()"
   ]
  },
  {
   "cell_type": "code",
   "execution_count": 9,
   "metadata": {
    "collapsed": true
   },
   "outputs": [
    {
     "name": "stdout",
     "output_type": "stream",
     "text": [
      "(1, 'hi')\n",
      "('name', 'Vanitha')\n",
      "('marks', [90, 89, 87])\n",
      "(90.45, 40)\n"
     ]
    }
   ],
   "source": [
    "for item in dic.items():\n",
    "    print(item)"
   ]
  },
  {
   "cell_type": "code",
   "execution_count": 10,
   "metadata": {
    "collapsed": true
   },
   "outputs": [
    {
     "name": "stdout",
     "output_type": "stream",
     "text": [
      "1:hi\n",
      "name:Vanitha\n",
      "marks:[90, 89, 87]\n",
      "90.45:40\n"
     ]
    }
   ],
   "source": [
    "for key,val in dic.items():\n",
    "    print(key,val,sep=\":\")"
   ]
  },
  {
   "cell_type": "code",
   "execution_count": 18,
   "metadata": {},
   "outputs": [
    {
     "data": {
      "text/plain": [
       "{1: None, 2: None, 3: None, 4: None, 9: None, 8: None, 5: None}"
      ]
     },
     "execution_count": 18,
     "metadata": {},
     "output_type": "execute_result"
    }
   ],
   "source": [
    "keys=[1,2,3,4,9,8,5]\n",
    "new={}\n",
    "new=new.fromkeys(keys) # None values by default\n",
    "new"
   ]
  },
  {
   "cell_type": "code",
   "execution_count": 14,
   "metadata": {},
   "outputs": [
    {
     "data": {
      "text/plain": [
       "'hi'"
      ]
     },
     "execution_count": 14,
     "metadata": {},
     "output_type": "execute_result"
    }
   ],
   "source": [
    "dic.setdefault(1) # key:val"
   ]
  },
  {
   "cell_type": "code",
   "execution_count": 15,
   "metadata": {},
   "outputs": [],
   "source": [
    "dic.setdefault(3) # non existed key added into the dict"
   ]
  },
  {
   "cell_type": "code",
   "execution_count": 16,
   "metadata": {},
   "outputs": [
    {
     "data": {
      "text/plain": [
       "{1: 'hi', 'name': 'Vanitha', 'marks': [90, 89, 87], 90.45: 40, 3: None}"
      ]
     },
     "execution_count": 16,
     "metadata": {},
     "output_type": "execute_result"
    }
   ],
   "source": [
    "dic"
   ]
  },
  {
   "cell_type": "code",
   "execution_count": 19,
   "metadata": {},
   "outputs": [
    {
     "data": {
      "text/plain": [
       "{1: None, 2: None, 3: None, 4: None, 9: None, 8: None, 5: None}"
      ]
     },
     "execution_count": 19,
     "metadata": {},
     "output_type": "execute_result"
    }
   ],
   "source": [
    "new # using updation"
   ]
  },
  {
   "cell_type": "code",
   "execution_count": 22,
   "metadata": {},
   "outputs": [],
   "source": [
    "new[1]='update' # existed key gets updated"
   ]
  },
  {
   "cell_type": "code",
   "execution_count": 24,
   "metadata": {},
   "outputs": [
    {
     "data": {
      "text/plain": [
       "{1: 'update', 2: None, 3: None, 4: None, 9: None, 8: None, 5: None}"
      ]
     },
     "execution_count": 24,
     "metadata": {},
     "output_type": "execute_result"
    }
   ],
   "source": [
    "new"
   ]
  },
  {
   "cell_type": "code",
   "execution_count": 25,
   "metadata": {},
   "outputs": [
    {
     "data": {
      "text/plain": [
       "{1: 'update', 2: None, 3: None, 4: None, 9: None, 8: None, 5: None, 6: 'new'}"
      ]
     },
     "execution_count": 25,
     "metadata": {},
     "output_type": "execute_result"
    }
   ],
   "source": [
    "new[6]='new'\n",
    "new"
   ]
  },
  {
   "cell_type": "code",
   "execution_count": 29,
   "metadata": {},
   "outputs": [
    {
     "name": "stdout",
     "output_type": "stream",
     "text": [
      "None\n"
     ]
    }
   ],
   "source": [
    "print(new.get(8))"
   ]
  },
  {
   "cell_type": "code",
   "execution_count": 30,
   "metadata": {},
   "outputs": [],
   "source": [
    "new.pop(4) # specific key"
   ]
  },
  {
   "cell_type": "code",
   "execution_count": 31,
   "metadata": {},
   "outputs": [
    {
     "data": {
      "text/plain": [
       "{1: 'update', 2: None, 3: None, 9: None, 8: None, 5: None, 6: 'new'}"
      ]
     },
     "execution_count": 31,
     "metadata": {},
     "output_type": "execute_result"
    }
   ],
   "source": [
    "new"
   ]
  },
  {
   "cell_type": "code",
   "execution_count": 32,
   "metadata": {},
   "outputs": [
    {
     "data": {
      "text/plain": [
       "(6, 'new')"
      ]
     },
     "execution_count": 32,
     "metadata": {},
     "output_type": "execute_result"
    }
   ],
   "source": [
    "new.popitem() # last one removed"
   ]
  },
  {
   "cell_type": "code",
   "execution_count": 33,
   "metadata": {},
   "outputs": [],
   "source": [
    "new.update(dic)"
   ]
  },
  {
   "cell_type": "code",
   "execution_count": 34,
   "metadata": {
    "collapsed": true
   },
   "outputs": [
    {
     "data": {
      "text/plain": [
       "{1: 'hi',\n",
       " 2: None,\n",
       " 3: None,\n",
       " 9: None,\n",
       " 8: None,\n",
       " 5: None,\n",
       " 'name': 'Vanitha',\n",
       " 'marks': [90, 89, 87],\n",
       " 90.45: 40}"
      ]
     },
     "execution_count": 34,
     "metadata": {},
     "output_type": "execute_result"
    }
   ],
   "source": [
    "new"
   ]
  },
  {
   "cell_type": "code",
   "execution_count": 36,
   "metadata": {},
   "outputs": [],
   "source": [
    "new.update({'hi':'hello'})"
   ]
  },
  {
   "cell_type": "code",
   "execution_count": 37,
   "metadata": {
    "collapsed": true
   },
   "outputs": [
    {
     "data": {
      "text/plain": [
       "{1: 'hi',\n",
       " 2: None,\n",
       " 3: None,\n",
       " 9: None,\n",
       " 8: None,\n",
       " 5: None,\n",
       " 'name': 'Vanitha',\n",
       " 'marks': [90, 89, 87],\n",
       " 90.45: 40,\n",
       " 'hi': 'hello'}"
      ]
     },
     "execution_count": 37,
     "metadata": {},
     "output_type": "execute_result"
    }
   ],
   "source": [
    "new"
   ]
  },
  {
   "cell_type": "code",
   "execution_count": 38,
   "metadata": {
    "collapsed": true
   },
   "outputs": [
    {
     "data": {
      "text/plain": [
       "{1: 'hi',\n",
       " 2: None,\n",
       " 3: None,\n",
       " 9: None,\n",
       " 8: None,\n",
       " 5: None,\n",
       " 'name': 'Vanitha',\n",
       " 'marks': [90, 89, 87],\n",
       " 90.45: 40,\n",
       " 'hi': 'hello'}"
      ]
     },
     "execution_count": 38,
     "metadata": {},
     "output_type": "execute_result"
    }
   ],
   "source": [
    "new # you should replace with your name"
   ]
  },
  {
   "cell_type": "code",
   "execution_count": 39,
   "metadata": {},
   "outputs": [],
   "source": [
    "#prepare the dict of squares of numbers from 1 to 10"
   ]
  },
  {
   "cell_type": "code",
   "execution_count": 40,
   "metadata": {
    "collapsed": true
   },
   "outputs": [
    {
     "data": {
      "text/plain": [
       "{1: 'hi',\n",
       " 2: None,\n",
       " 3: None,\n",
       " 9: None,\n",
       " 8: None,\n",
       " 5: None,\n",
       " 'name': 'Vanitha',\n",
       " 'marks': [90, 89, 87],\n",
       " 90.45: 40,\n",
       " 'hi': 'hello'}"
      ]
     },
     "execution_count": 40,
     "metadata": {},
     "output_type": "execute_result"
    }
   ],
   "source": [
    "new"
   ]
  },
  {
   "cell_type": "code",
   "execution_count": 41,
   "metadata": {
    "collapsed": true
   },
   "outputs": [
    {
     "name": "stdout",
     "output_type": "stream",
     "text": [
      "<class 'str'>\n",
      "<class 'NoneType'>\n",
      "<class 'NoneType'>\n",
      "<class 'NoneType'>\n",
      "<class 'NoneType'>\n",
      "<class 'NoneType'>\n",
      "<class 'str'>\n",
      "<class 'list'>\n",
      "<class 'int'>\n",
      "<class 'str'>\n"
     ]
    }
   ],
   "source": [
    "for key in new:\n",
    "    print(type(new[key]))"
   ]
  },
  {
   "cell_type": "code",
   "execution_count": 50,
   "metadata": {
    "collapsed": true
   },
   "outputs": [
    {
     "name": "stdout",
     "output_type": "stream",
     "text": [
      "2 None\n",
      "3 None\n",
      "9 None\n",
      "8 None\n",
      "5 None\n"
     ]
    }
   ],
   "source": [
    "for key in new:\n",
    "    if type(new[key])==str or type(new[key])==list or type(new[key])==int:\n",
    "        continue\n",
    "    else:\n",
    "        print(key,new[key])"
   ]
  },
  {
   "cell_type": "code",
   "execution_count": 47,
   "metadata": {
    "collapsed": true
   },
   "outputs": [
    {
     "data": {
      "text/plain": [
       "{1: 'hi',\n",
       " 2: None,\n",
       " 3: None,\n",
       " 9: None,\n",
       " 8: None,\n",
       " 5: None,\n",
       " 'name': 'Vanitha',\n",
       " 'marks': [90, 89, 87],\n",
       " 90.45: 40,\n",
       " 'hi': 'hello'}"
      ]
     },
     "execution_count": 47,
     "metadata": {},
     "output_type": "execute_result"
    }
   ],
   "source": [
    "new"
   ]
  },
  {
   "cell_type": "code",
   "execution_count": 51,
   "metadata": {},
   "outputs": [
    {
     "name": "stdout",
     "output_type": "stream",
     "text": [
      "{1: 1, 2: 4, 3: 9, 4: 16, 5: 25, 6: 36, 7: 49, 8: 64, 9: 81, 10: 100}\n"
     ]
    }
   ],
   "source": [
    "sqaures={}\n",
    "for num in range(1,11):\n",
    "    sqaures[num]=num**2\n",
    "print(sqaures)"
   ]
  },
  {
   "cell_type": "markdown",
   "metadata": {},
   "source": [
    "#### Files\n",
    "- anything that contains information\n",
    "- different kinds of files\n",
    "    - ,txt,.doc,.xls,.pdf,.py,.c,.cpp,.exe etc..\n",
    "    \n",
    "- File operations\n",
    "    1. open()\n",
    "    2. read()\n",
    "    3. write()\n",
    "    4. append()\n",
    "    5. close()"
   ]
  },
  {
   "cell_type": "markdown",
   "metadata": {},
   "source": [
    "open(filepath,mode)"
   ]
  },
  {
   "cell_type": "code",
   "execution_count": 54,
   "metadata": {
    "collapsed": true
   },
   "outputs": [
    {
     "name": "stdout",
     "output_type": "stream",
     "text": [
      "Hi hello I am Ruthu\n",
      "working in APSSDC\n",
      "Located at Tadepalli in vijayawada\n",
      "..........\n",
      "I love my India\n"
     ]
    }
   ],
   "source": [
    "data=open('first.txt','r')\n",
    "print(data.read())\n",
    "data.close()"
   ]
  },
  {
   "cell_type": "code",
   "execution_count": 58,
   "metadata": {
    "collapsed": true
   },
   "outputs": [
    {
     "name": "stdout",
     "output_type": "stream",
     "text": [
      "Hi hello I am Ruthu\n",
      "working in APSSDC\n",
      "Located at Tadepalli in vijayawada\n",
      "..........\n",
      "I love my India\n"
     ]
    }
   ],
   "source": [
    "with open('first.txt','r') as file:\n",
    "    print(file.read())"
   ]
  },
  {
   "cell_type": "code",
   "execution_count": 59,
   "metadata": {
    "collapsed": true
   },
   "outputs": [
    {
     "data": {
      "text/plain": [
       "['Hi hello I am Ruthu\\n',\n",
       " 'working in APSSDC\\n',\n",
       " 'Located at Tadepalli in vijayawada\\n',\n",
       " '..........\\n',\n",
       " 'I love my India']"
      ]
     },
     "execution_count": 59,
     "metadata": {},
     "output_type": "execute_result"
    }
   ],
   "source": [
    "rl=open('first.txt','r')\n",
    "rl.readlines() #list"
   ]
  },
  {
   "cell_type": "code",
   "execution_count": null,
   "metadata": {},
   "outputs": [],
   "source": [
    "append() adds new content\n",
    "write() overwrites the existed data in the file"
   ]
  },
  {
   "cell_type": "code",
   "execution_count": 63,
   "metadata": {},
   "outputs": [],
   "source": [
    "op=open('first.txt','w')\n",
    "op.write('adding new content\\nsecond line\\nthird line')\n",
    "op.close()"
   ]
  },
  {
   "cell_type": "code",
   "execution_count": 70,
   "metadata": {},
   "outputs": [],
   "source": [
    "add=open('first.txt','a')\n",
    "add.write('hi,hello,added') # no.of chars\n",
    "add.close()"
   ]
  },
  {
   "cell_type": "code",
   "execution_count": 71,
   "metadata": {
    "collapsed": true
   },
   "outputs": [
    {
     "ename": "NameError",
     "evalue": "name 'writelines' is not defined",
     "output_type": "error",
     "traceback": [
      "\u001b[1;31m---------------------------------------------------------------------------\u001b[0m",
      "\u001b[1;31mNameError\u001b[0m                                 Traceback (most recent call last)",
      "\u001b[1;32m<ipython-input-71-17af7b3fdd3c>\u001b[0m in \u001b[0;36m<module>\u001b[1;34m\u001b[0m\n\u001b[1;32m----> 1\u001b[1;33m \u001b[0mwritelines\u001b[0m\u001b[1;33m(\u001b[0m\u001b[1;33m)\u001b[0m\u001b[1;33m\u001b[0m\u001b[1;33m\u001b[0m\u001b[0m\n\u001b[0m",
      "\u001b[1;31mNameError\u001b[0m: name 'writelines' is not defined"
     ]
    }
   ],
   "source": [
    "writelines()"
   ]
  },
  {
   "cell_type": "code",
   "execution_count": 72,
   "metadata": {},
   "outputs": [],
   "source": [
    "#create the file using write()\n",
    "second=open('second.py','w')\n",
    "second.write('print(\"hi welcome to course\")')\n",
    "second.close()"
   ]
  },
  {
   "cell_type": "code",
   "execution_count": 73,
   "metadata": {},
   "outputs": [],
   "source": [
    "# create a new file containing n lines of all chars\n",
    "# find the no.of alphabets,digits,special chars,words and lines"
   ]
  },
  {
   "cell_type": "code",
   "execution_count": 75,
   "metadata": {},
   "outputs": [
    {
     "name": "stdout",
     "output_type": "stream",
     "text": [
      "no.of alphabets= 76\n",
      "no.of digits= 8\n",
      "no.of sepical chars= 11\n",
      "no.of words= 12\n",
      "no.of lines= 0\n"
     ]
    }
   ],
   "source": [
    "with open('first.txt','r') as file:\n",
    "    data=file.read()\n",
    "    chc=dc=spc=wc=lc=0\n",
    "    for ch in data:\n",
    "        if ch.isalpha():\n",
    "            chc+=1\n",
    "        elif ch.isdigit():\n",
    "            dc+=1\n",
    "        elif ch.isspace():\n",
    "            wc+=1\n",
    "        elif ch==\"\\n\":\n",
    "            lc+=1\n",
    "        else:\n",
    "            spc+=1\n",
    "print(\"no.of alphabets=\",chc)\n",
    "print(\"no.of digits=\",dc)\n",
    "print(\"no.of sepical chars=\",spc)\n",
    "print(\"no.of words=\",wc+1)\n",
    "print(\"no.of lines=\",lc)\n"
   ]
  },
  {
   "cell_type": "code",
   "execution_count": null,
   "metadata": {},
   "outputs": [],
   "source": []
  }
 ],
 "metadata": {
  "kernelspec": {
   "display_name": "Python 3",
   "language": "python",
   "name": "python3"
  },
  "language_info": {
   "codemirror_mode": {
    "name": "ipython",
    "version": 3
   },
   "file_extension": ".py",
   "mimetype": "text/x-python",
   "name": "python",
   "nbconvert_exporter": "python",
   "pygments_lexer": "ipython3",
   "version": "3.7.6"
  }
 },
 "nbformat": 4,
 "nbformat_minor": 4
}
